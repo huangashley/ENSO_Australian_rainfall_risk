{
 "cells": [
  {
   "cell_type": "code",
   "execution_count": null,
   "id": "873c0fe9-a6e8-429a-91fe-00295d5dd1cb",
   "metadata": {},
   "outputs": [],
   "source": [
    "import matplotlib.pyplot as plt\n",
    "import matplotlib as mpl\n",
    "import numpy as np\n",
    "import netCDF4 as nc\n",
    "import cartopy.crs as ccrs\n",
    "import xarray as xr\n",
    "from scipy.stats import pearsonr\n",
    "from calendar import month_abbr\n",
    "import regionmask\n",
    "import pandas as pd\n",
    "import geopandas as gp\n",
    "import scipy.stats as stats"
   ]
  },
  {
   "cell_type": "markdown",
   "id": "d1c544d1-1207-4fad-987c-038e0d8507c0",
   "metadata": {},
   "source": [
    "# Import data"
   ]
  },
  {
   "cell_type": "code",
   "execution_count": 3,
   "id": "bdb54d93-18c0-4a3c-bad6-c826cd59d0e7",
   "metadata": {},
   "outputs": [
    {
     "name": "stderr",
     "output_type": "stream",
     "text": [
      "/g/data/hh5/public/apps/miniconda3/envs/analysis3-24.01/lib/python3.10/site-packages/distributed/client.py:3161: UserWarning: Sending large graph of size 17.94 MiB.\n",
      "This may cause some slowdown.\n",
      "Consider scattering data ahead of time and using futures.\n",
      "  warnings.warn(\n"
     ]
    }
   ],
   "source": [
    "dpr_GFDL_E_regrid = xr.open_mfdataset('/scratch/x77/nxm561/SMILEs/GFDL-ESM2M/pr_regrid/pr_AmonOmon_GFDL-ESM2M_historical_rcp85_r*.nc',parallel=True,combine='nested',concat_dim = 'ens_number').pr.sel(time = slice('1921','2100'))\n",
    "dtos_GFDL_E = xr.open_mfdataset('/scratch/x77/nxm561/SMILEs/GFDL-ESM2M/tos_regrid/tos_Omon_GFDL-ESM2M_historical_rcp85_r*.nc',parallel=True,combine='nested',concat_dim = 'ens_number').tos.sel(time = slice('1921','2100')).squeeze().compute()"
   ]
  },
  {
   "cell_type": "markdown",
   "id": "5ae419df-a92a-449a-9507-49e087970d89",
   "metadata": {},
   "source": [
    "# First data processing"
   ]
  },
  {
   "cell_type": "code",
   "execution_count": 5,
   "id": "602be9e9-3d9e-4628-b1f2-1397e759893d",
   "metadata": {},
   "outputs": [],
   "source": [
    "# # in terminal\n",
    "# module load nco\n",
    "# ncea tos_...*.nc \n",
    "# ensemblemean.nc"
   ]
  },
  {
   "cell_type": "code",
   "execution_count": 6,
   "id": "2ee1b99e-e53e-4524-96c6-5d0c3787b03c",
   "metadata": {},
   "outputs": [],
   "source": [
    "# ensemble mean\n",
    "pr_GFDL_E_regrid_ens_mean = xr.load_dataset('/scratch/x77/nxm561/SMILEs/GFDL-ESM2M/pr_regrid/pr_AmonOmon_GFDL-ESM2M_historical_rcp85_ensemble_mean.nc').pr.sel(time = slice('1921','2100'))\n",
    "\n",
    "# anomaly with respect to ensemble mean (run at the first time)\n",
    "# pr_GFDL_E_regrid_anom = (dpr_GFDL_E_regrid - pr_GFDL_E_regrid_ens_mean).compute()\n",
    "# pr_GFDL_E_regrid_anom.to_dataset(name='pr').to_netcdf(path='/g/data/x77/ah3693/Rainfall_risk_project/pr_GFDL_E_regrid_anom.nc')"
   ]
  },
  {
   "cell_type": "code",
   "execution_count": 7,
   "id": "be92c3af-972b-49e2-b2aa-fae5d1257327",
   "metadata": {},
   "outputs": [],
   "source": [
    "pr_GFDL_E_regrid_anom = xr.load_dataset('/g/data/x77/ah3693/Rainfall_risk_project/pr_GFDL_E_regrid_anom.nc').pr"
   ]
  },
  {
   "cell_type": "markdown",
   "id": "05bb72c2-b4c2-46f9-9d11-9204d435fe2b",
   "metadata": {},
   "source": [
    "# Some universal things"
   ]
  },
  {
   "cell_type": "code",
   "execution_count": 8,
   "id": "326da2b8-abc6-4c7f-97ca-cc78f6fefcbe",
   "metadata": {},
   "outputs": [],
   "source": [
    "# Weights for spatial average\n",
    "weights = np.cos(np.deg2rad(dtos_GFDL_E.lat))\n",
    "weights.name = \"weights\""
   ]
  },
  {
   "cell_type": "markdown",
   "id": "412f7ef5-b492-4396-8f68-9c3920ab2097",
   "metadata": {},
   "source": [
    "# Spatial mean timeseries calculation"
   ]
  },
  {
   "cell_type": "markdown",
   "id": "ae0c6328-5b86-485d-b8a7-04199948f5d0",
   "metadata": {},
   "source": [
    "## - Nino3.4 timeseries (NOAA ONI method)"
   ]
  },
  {
   "cell_type": "code",
   "execution_count": 9,
   "id": "942771c8-a2f5-49ab-b9e1-07407ff6d7bd",
   "metadata": {},
   "outputs": [],
   "source": [
    "def anom(df,time_period,base_year):\n",
    "    gb = df.sel(time=time_period).groupby('time.month')\n",
    "    gb_base = df.sel(time=base_year).groupby('time.month')\n",
    "    df_anom = gb - gb_base.mean(dim='time')\n",
    "    return df_anom\n",
    "    \n",
    "def nino34_index(tos_file):\n",
    "    tos_nino34 = tos_file.where((tos_file.lat<=5) & (tos_file.lat>=-5) & (tos_file.lon>=190) & (tos_file.lon<=240), drop=True)\n",
    "    \n",
    "    weights = np.cos(np.deg2rad(tos_nino34.lat))\n",
    "    weights.name = \"weights\"\n",
    "    tos_weighted = tos_nino34.weighted(weights)\n",
    "    weighted_mean = tos_weighted.mean(dim=['lat','lon'])\n",
    "    \n",
    "    anomalies = []\n",
    "    \n",
    "    # 1921-1935\n",
    "    anomaly = anom(weighted_mean, slice(str(1921),str(1935)), slice(str(1921),str(1950)))\n",
    "    anomalies.append(anomaly)\n",
    "\n",
    "    # 1936-2090\n",
    "    for year in range(1936,2090,5):\n",
    "        time_period = slice(str(year),str(year+4))\n",
    "        base_year = slice(str(year-15),str(year+14))\n",
    "        \n",
    "        anomaly = anom(weighted_mean,time_period,base_year)\n",
    "        anomalies.append(anomaly)\n",
    "\n",
    "    # 2091-2100\n",
    "    anomaly = anom(weighted_mean, slice(str(2091),str(2100)), slice(str(2071),str(2100)))\n",
    "    anomalies.append(anomaly)\n",
    "\n",
    "    # Concatenate the anomalies along the time dimension\n",
    "    all_anomalies = xr.concat(anomalies, dim='time')\n",
    "\n",
    "    ## index = mean sst over the whole region\n",
    "    # detrended_nino34 = all_anomalies.rolling(time = 3,center=True).mean().dropna(dim='time')\n",
    "    # nino34_SON = detrended_nino34.sel(time = detrended_nino34.time.dt.month.isin([10]))\n",
    "    nino34_S_O_N = all_anomalies.sel(time = all_anomalies.time.dt.month.isin([9, 10, 11]))\n",
    "\n",
    "    return nino34_S_O_N #detrended_nino34, nino34_SON.sel(time=slice('1921','2000'))\n",
    "    # return detrended_nino34.sel(time=slice('1921','2000')), nino34_S_O_N.sel(time=slice('1921','2000')) #, nino34_SON.sel(time=slice('1921','2000'))"
   ]
  },
  {
   "cell_type": "code",
   "execution_count": 10,
   "id": "5bddea4d-7b86-401b-bbbb-6decbcbf7abd",
   "metadata": {},
   "outputs": [],
   "source": [
    "# # (run at the first time)\n",
    "# nino34_GFDL_E, nino34_GFDL_E_SON = nino34_index(dtos_GFDL_E) # .sel(ens_number = slice(0,30))\n",
    "# nino34_GFDL_E_S_O_N = nino34_index(dtos_GFDL_E)"
   ]
  },
  {
   "cell_type": "code",
   "execution_count": 11,
   "id": "a20f5429-f37c-4f80-a8d6-8859ba2bf52d",
   "metadata": {},
   "outputs": [],
   "source": [
    "# (run at the first time)\n",
    "# nino34_GFDL_E.to_dataset(name='tos').to_netcdf(path='/g/data/x77/ah3693/Rainfall_risk_project/nino34_GFDL_E.nc')\n",
    "# nino34_GFDL_E_SON.to_dataset(name='tos').to_netcdf(path='/g/data/x77/ah3693/Rainfall_risk_project/nino34_GFDL_E_SON.nc')\n",
    "# nino34_GFDL_E_S_O_N.to_dataset(name='tos').to_netcdf(path='/g/data/x77/ah3693/Rainfall_risk_project/nino34_GFDL_E_S_O_N.nc')"
   ]
  },
  {
   "cell_type": "code",
   "execution_count": 12,
   "id": "6e850d73-c0a8-457d-8e43-45d42ae3a93d",
   "metadata": {},
   "outputs": [],
   "source": [
    "nino34_GFDL_E = xr.load_dataset('/g/data/x77/ah3693/Rainfall_risk_project/nino34_GFDL_E.nc').tos\n",
    "nino34_GFDL_E_SON = xr.load_dataset('/g/data/x77/ah3693/Rainfall_risk_project/nino34_GFDL_E_SON.nc').tos\n",
    "nino34_GFDL_E_S_O_N = xr.load_dataset('/g/data/x77/ah3693/Rainfall_risk_project/nino34_GFDL_E_S_O_N.nc').tos"
   ]
  },
  {
   "cell_type": "code",
   "execution_count": null,
   "id": "56de7991-ba3a-42e8-b890-b59feaf831e2",
   "metadata": {},
   "outputs": [],
   "source": [
    "def select_ENSO_year(nino34):\n",
    "    index_nino34 = nino34.round(1)\n",
    "    \n",
    "    threshold = 0.5\n",
    "    \n",
    "    # Single threshold\n",
    "    mask_EN = (index_nino34 >= threshold) \n",
    "    mask_LN = (index_nino34 <= -threshold)\n",
    "\n",
    "    # # Two threshold (for moderate-only analysis)\n",
    "    # mask_EN = ((index_nino34 >= threshold) & (index_nino34 <= 1.5))\n",
    "    # mask_LN = ((index_nino34 <= -threshold) & (index_nino34 >= -1.5))\n",
    "    \n",
    "    # Find the consecutive months with the threshold condition\n",
    "    consecutive_months_EN = mask_EN.rolling(time=5, min_periods=5).sum() >= 5\n",
    "    consecutive_months_LN = mask_LN.rolling(time=5, min_periods=5).sum() >= 5\n",
    "    \n",
    "    # Select the months that meet both the threshold and consecutive months condition\n",
    "    selected_index_EN = index_nino34.where(consecutive_months_EN).dropna(dim='time')\n",
    "    selected_index_LN = index_nino34.where(consecutive_months_LN).dropna(dim='time')\n",
    "    \n",
    "    elnino_y = selected_index_EN.sel(time = selected_index_EN.time.dt.month.isin([12]))\n",
    "    elnino_y2 = selected_index_EN.sel(time = selected_index_EN.time.dt.month.isin([1,2,3,4]))\n",
    "    lanina_y = selected_index_LN.sel(time = selected_index_LN.time.dt.month.isin([12]))\n",
    "    lanina_y2 = selected_index_LN.sel(time = selected_index_LN.time.dt.month.isin([1,2,3,4]))\n",
    "    \n",
    "    elnino_year = np.sort(list(set(np.append(elnino_y.time.dt.year.values,elnino_y2.time.dt.year.values-1))))\n",
    "    lanina_year = np.sort(list(set(np.append(lanina_y.time.dt.year.values,lanina_y2.time.dt.year.values-1))))\n",
    "    \n",
    "    return elnino_year, lanina_year"
   ]
  },
  {
   "cell_type": "code",
   "execution_count": 14,
   "id": "3f3f8f39-11e5-4d30-9a34-4bff62f006ce",
   "metadata": {},
   "outputs": [],
   "source": [
    "ens_num = len(nino34_GFDL_E)\n",
    "\n",
    "# # (run at the first time)\n",
    "# elnino_year_GFDL_E = [[] for _ in range(ens_num)]\n",
    "# lanina_year_GFDL_E = [[] for _ in range(ens_num)]\n",
    "# for i in range(ens_num):\n",
    "#     elnino_year_GFDL_E[i], lanina_year_GFDL_E[i] = select_ENSO_year(nino34_GFDL_E.isel(ens_number = i))"
   ]
  },
  {
   "cell_type": "code",
   "execution_count": 15,
   "id": "c1eb424b-36fd-4645-a551-cfbeec5deaf9",
   "metadata": {},
   "outputs": [],
   "source": [
    "# # (run at the first time)\n",
    "# np.save('/g/data/x77/ah3693/Rainfall_risk_project/elnino_year_GFDL_E_med.npy', elnino_year_GFDL_E)\n",
    "# np.save('/g/data/x77/ah3693/Rainfall_risk_project/lanina_year_GFDL_E_med.npy', lanina_year_GFDL_E)"
   ]
  },
  {
   "cell_type": "code",
   "execution_count": 16,
   "id": "f71c23a0-2648-451f-aa8c-a43f18f39416",
   "metadata": {},
   "outputs": [],
   "source": [
    "elnino_year_GFDL_E = np.load('/g/data/x77/ah3693/Rainfall_risk_project/elnino_year_GFDL_E.npy',allow_pickle=True)\n",
    "lanina_year_GFDL_E = np.load('/g/data/x77/ah3693/Rainfall_risk_project/lanina_year_GFDL_E.npy',allow_pickle=True)"
   ]
  },
  {
   "cell_type": "code",
   "execution_count": 17,
   "id": "5ab16573-4d36-4021-bc21-7ae28b5bdb0a",
   "metadata": {},
   "outputs": [],
   "source": [
    "elnino_year_GFDL_E_med = np.load('/g/data/x77/ah3693/Rainfall_risk_project/elnino_year_GFDL_E_med.npy',allow_pickle=True)\n",
    "lanina_year_GFDL_E_med = np.load('/g/data/x77/ah3693/Rainfall_risk_project/lanina_year_GFDL_E_med.npy',allow_pickle=True)"
   ]
  },
  {
   "cell_type": "markdown",
   "id": "cb2c793b-6d1c-44a5-9de4-0844fae2c547",
   "metadata": {},
   "source": [
    "## - Precipitation"
   ]
  },
  {
   "cell_type": "code",
   "execution_count": 19,
   "id": "142a74ce-2d4d-4268-9e22-f506de9bb2d1",
   "metadata": {},
   "outputs": [],
   "source": [
    "# MDB precipitation\n",
    "# NRM mask\n",
    "NRM_clusters = '/g/data/w97/ah3693-2/Honours/NRM_clusters.zip'\n",
    "NRM = gp.read_file('zip://'+NRM_clusters)\n",
    "lon = pr_GFDL_E_regrid_anom.sel(lon = slice(110,160), lat = slice(-45,-5)).lon\n",
    "lat = pr_GFDL_E_regrid_anom.sel(lon = slice(110,160), lat = slice(-45,-5)).lat\n",
    "NRMmask = regionmask.mask_3D_geopandas(NRM,lon,lat)\n",
    "NRM_precip_GFDL_E = pr_GFDL_E_regrid_anom.sel(lon = slice(110,160), lat = slice(-45,-5)).where(NRMmask)"
   ]
  },
  {
   "cell_type": "code",
   "execution_count": 20,
   "id": "e4398a11-ced6-4673-bf34-185b676ca36c",
   "metadata": {},
   "outputs": [],
   "source": [
    "MDB_precip_GFDL_E = NRM_precip_GFDL_E.sel(region = [0,2]).mean(dim=['lat','lon','region']).compute()\n",
    "\n",
    "## SON three months rolling mean\n",
    "# rolling_MDB_precip_GFDL_E = MDB_precip_GFDL_E.rolling(time = 3,center=True).mean().dropna(dim='time')\n",
    "# MDB_precip_GFDL_E_SON = rolling_MDB_precip_GFDL_E.sel(time = rolling_MDB_precip_GFDL_E.time.dt.month.isin([10]))*1000*3600*24*91/3\n",
    "\n",
    "# September, October, November single months all selected out\n",
    "MDB_precip_GFDL_E_S_O_N = MDB_precip_GFDL_E.sel(time = MDB_precip_GFDL_E.time.dt.month.isin([9, 10, 11]))*3600*24*91/3"
   ]
  },
  {
   "cell_type": "code",
   "execution_count": null,
   "id": "59e0547e-e4e6-4331-bc79-d08e8a503c1e",
   "metadata": {},
   "outputs": [],
   "source": []
  }
 ],
 "metadata": {
  "kernelspec": {
   "display_name": "Python 3",
   "language": "python",
   "name": "python3"
  },
  "language_info": {
   "codemirror_mode": {
    "name": "ipython",
    "version": 3
   },
   "file_extension": ".py",
   "mimetype": "text/x-python",
   "name": "python",
   "nbconvert_exporter": "python",
   "pygments_lexer": "ipython3",
   "version": "3.10.16"
  }
 },
 "nbformat": 4,
 "nbformat_minor": 5
}
